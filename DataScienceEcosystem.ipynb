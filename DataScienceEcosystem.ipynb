{
 "cells": [
  {
   "cell_type": "markdown",
   "id": "23893fd2-9555-467b-bd61-d56908a47447",
   "metadata": {},
   "source": [
    "Exercise 2: Create markdown cell with title of the notebook\n",
    "Create a markdown cell with the title Data Science Tools and Ecosystem using H1 style heading."
   ]
  },
  {
   "cell_type": "markdown",
   "id": "cdfe8d46-349f-476d-b947-df72b0d3f51e",
   "metadata": {},
   "source": [
    "# Data Science Tools and Ecosystem"
   ]
  },
  {
   "cell_type": "markdown",
   "id": "29f81fae-afda-4913-967f-aa75d7b53d31",
   "metadata": {},
   "source": [
    "Exercise 3 - Create a markdown cell for an introduction\n",
    "\n",
    "Write an introductory sentence about the notebook such as the follows:"
   ]
  },
  {
   "cell_type": "markdown",
   "id": "73aaef8d-95f4-47b6-89af-b4eb98e49488",
   "metadata": {},
   "source": [
    "In this notebook, I follow the examples provided and Data Science Tools and Ecosystem are summarized."
   ]
  },
  {
   "cell_type": "markdown",
   "id": "8eb2aa7a-50d8-4415-9f4c-e2f54d007617",
   "metadata": {},
   "source": [
    "Exercise 10 - Insert a markdown cell to list Objectives"
   ]
  },
  {
   "cell_type": "markdown",
   "id": "98b712e4-e609-4aff-9958-5679caf87926",
   "metadata": {},
   "source": [
    "**Objectives:**\n",
    "+ List Data Science Languages\n",
    "+ List Data Science Libraries\n",
    "+ List Data Science Tools"
   ]
  },
  {
   "cell_type": "markdown",
   "id": "0b206d1b-8844-41a3-bd62-9eac1770f120",
   "metadata": {},
   "source": [
    "Exercise 4 - Create a markdown cell to list data science languages"
   ]
  },
  {
   "cell_type": "markdown",
   "id": "b3adf9df-f360-406d-9428-2fa6b5f3246c",
   "metadata": {},
   "source": [
    "### Some of the popular languages that Data Scientists use are:\n",
    "1. Python\n",
    "2. SQL\n",
    "3. R"
   ]
  },
  {
   "cell_type": "markdown",
   "id": "8bf95ddf-0258-408f-b9f8-95e5d37ed750",
   "metadata": {},
   "source": [
    "Exercise 5 - Create a markdown cell to list data science libraries"
   ]
  },
  {
   "cell_type": "markdown",
   "id": "d08b6278-e490-456a-9d79-a0f1ccf61649",
   "metadata": {},
   "source": [
    "### Some of the commonly used libraries used by Data Scientists include:\n",
    "1. Pandas\n",
    "2. ggplot\n",
    "3. caret"
   ]
  },
  {
   "cell_type": "markdown",
   "id": "54b3ae0c-68a8-4c88-9043-7a119efc11cf",
   "metadata": {},
   "source": [
    "Exercise 6 - Create a markdown cell with a table of Data Science tools"
   ]
  },
  {
   "cell_type": "markdown",
   "id": "3baf2004-30ec-4f8b-88d2-c3e749f596e8",
   "metadata": {},
   "source": [
    "|Data Science Tools|\n",
    "|--------|\n",
    "|Jupytr Notebooks|\n",
    "|R Studio|\n",
    "|Apache Zeppelin|"
   ]
  },
  {
   "cell_type": "markdown",
   "id": "04ef3b00-df46-4ce7-aa5b-095b429e85dc",
   "metadata": {},
   "source": [
    "Exercise 7 - Create a markdown cell introducing arithmetic expression examples"
   ]
  },
  {
   "cell_type": "markdown",
   "id": "2e0a2922-f4c6-4157-98c4-e3883c0fd9ee",
   "metadata": {},
   "source": [
    "### Below are a few examples evaluating arithmetic expressions in Python"
   ]
  },
  {
   "cell_type": "markdown",
   "id": "6784e8ee-4ff7-4929-941f-234282763784",
   "metadata": {},
   "source": [
    "Exercise 8 - Create a code cell to multiply and add numbers"
   ]
  },
  {
   "cell_type": "code",
   "execution_count": 2,
   "id": "dcb2ad55-e9fc-4d78-a2da-acab07cb2e9f",
   "metadata": {
    "tags": []
   },
   "outputs": [],
   "source": [
    "# This is a Simple arithemtic expression to multiply then add integers"
   ]
  },
  {
   "cell_type": "code",
   "execution_count": 1,
   "id": "643e29d9-8beb-4222-9b4c-6b7214165a47",
   "metadata": {
    "tags": []
   },
   "outputs": [
    {
     "data": {
      "text/plain": [
       "17"
      ]
     },
     "execution_count": 1,
     "metadata": {},
     "output_type": "execute_result"
    }
   ],
   "source": [
    "(3*4)+5"
   ]
  },
  {
   "cell_type": "markdown",
   "id": "233c03a5-2ac2-477f-9e61-fd62a09919b2",
   "metadata": {},
   "source": [
    "Exercise 9 - Create a code cell to convert minutes to hours"
   ]
  },
  {
   "cell_type": "code",
   "execution_count": null,
   "id": "2cf1c9e1-a84f-4c6f-ac10-c0655895dd3b",
   "metadata": {},
   "outputs": [],
   "source": [
    "# This will convert 200 minutes to hours by dividing by 60"
   ]
  },
  {
   "cell_type": "code",
   "execution_count": 3,
   "id": "5d994175-bb42-4973-b881-ce69076d4db4",
   "metadata": {
    "tags": []
   },
   "outputs": [
    {
     "data": {
      "text/plain": [
       "3.3333333333333335"
      ]
     },
     "execution_count": 3,
     "metadata": {},
     "output_type": "execute_result"
    }
   ],
   "source": [
    "200/60"
   ]
  },
  {
   "cell_type": "markdown",
   "id": "4ef1f013-efce-407b-af66-79f9773d8fbb",
   "metadata": {},
   "source": [
    "Exercise 11 - Create a markdown cell to indicate the Author's name"
   ]
  },
  {
   "cell_type": "markdown",
   "id": "c776ee37-545d-43be-80fe-59567d807db8",
   "metadata": {},
   "source": [
    "## Author\n",
    "B Johnson"
   ]
  },
  {
   "cell_type": "code",
   "execution_count": null,
   "id": "d7a07488-0a1c-400f-ac40-769ae990c9d3",
   "metadata": {},
   "outputs": [],
   "source": []
  }
 ],
 "metadata": {
  "kernelspec": {
   "display_name": "Python",
   "language": "python",
   "name": "conda-env-python-py"
  },
  "language_info": {
   "codemirror_mode": {
    "name": "ipython",
    "version": 3
   },
   "file_extension": ".py",
   "mimetype": "text/x-python",
   "name": "python",
   "nbconvert_exporter": "python",
   "pygments_lexer": "ipython3",
   "version": "3.7.12"
  }
 },
 "nbformat": 4,
 "nbformat_minor": 5
}
